{
 "cells": [
  {
   "attachments": {},
   "cell_type": "markdown",
   "metadata": {},
   "source": [
    "This folder is for me to check a specific evidence. Since the evidence is too large, check it in a separate file is easier for testing."
   ]
  },
  {
   "cell_type": "code",
   "execution_count": 2,
   "metadata": {},
   "outputs": [],
   "source": [
    "import pandas as pd\n",
    "evd = pd.read_json('../data/evidence.json',orient='index')\n",
    "train = pd.read_json('../data/train-claims.json',orient='index')"
   ]
  },
  {
   "cell_type": "code",
   "execution_count": 12,
   "metadata": {},
   "outputs": [
    {
     "name": "stdout",
     "output_type": "stream",
     "text": [
      "the cliam id is:  claim-126\n",
      "claim_label:  REFUTES\n",
      "claim_text:  El Niño drove record highs in global temperatures suggesting rise may not be down to man-made emissions.\n",
      "evidences:  ['evidence-338219', 'evidence-1127398']\n",
      "========Evience List========\n",
      "evidence id:  evidence-338219\n",
      "evidence text:  While ‘climate change’ can be due to natural forces or human activity, there is now substantial evidence to indicate that human activity – and specifically increased greenhouse gas (GHGs) emissions – is a key factor in the pace and extent of global temperature increases. \n",
      "\n",
      "evidence id:  evidence-1127398\n",
      "evidence text:  This acceleration is due mostly to human-caused global warming, which is driving thermal expansion of seawater and the melting of land-based ice sheets and glaciers. \n",
      "\n"
     ]
    }
   ],
   "source": [
    "#get the evidences list in train set from given claim id\n",
    "def get_evidence_list(id):\n",
    "    claim_id = \"claim-\"+str(id)\n",
    "    print(\"the cliam id is: \",claim_id)\n",
    "    print(\"claim_label: \",train.loc[claim_id]['claim_label'])\n",
    "    print(\"claim_text: \",train.loc[claim_id]['claim_text'])\n",
    "    print(\"evidences: \",train.loc[claim_id]['evidences'])\n",
    "    print(\"========Evience List========\")\n",
    "\n",
    "    evd_list = train.loc[claim_id]['evidences']\n",
    "    #check the evidence list in evd dataset\n",
    "\n",
    "    for id in evd_list:\n",
    "        print(\"evidence id: \",id)\n",
    "        print(\"evidence text: \",get_evidence_text(id),'\\n')\n",
    "\n",
    "#get the evidence text from given evidence id\n",
    "def get_evidence_text(id):\n",
    "    return evd.loc[id][0]\n",
    "\n"
   ]
  },
  {
   "cell_type": "code",
   "execution_count": null,
   "metadata": {},
   "outputs": [],
   "source": []
  }
 ],
 "metadata": {
  "kernelspec": {
   "display_name": ".venv",
   "language": "python",
   "name": "python3"
  },
  "language_info": {
   "codemirror_mode": {
    "name": "ipython",
    "version": 3
   },
   "file_extension": ".py",
   "mimetype": "text/x-python",
   "name": "python",
   "nbconvert_exporter": "python",
   "pygments_lexer": "ipython3",
   "version": "3.8.10"
  },
  "orig_nbformat": 4
 },
 "nbformat": 4,
 "nbformat_minor": 2
}
